{
  "cells": [
    {
      "cell_type": "code",
      "source": [
        "from google_drive_downloader import GoogleDriveDownloader as gdd\n",
        "# download some .py files from drive\n",
        "gdd.download_file_from_google_drive(file_id=\"1UBo5er8gULPZNS8e66ZRaMeueXuaKg6x\",\n",
        "                                   dest_path=\"/content/download_required_files.py\",unzip=True)"
      ],
      "metadata": {
        "colab": {
          "base_uri": "https://localhost:8080/"
        },
        "id": "29hg8U48vsj9",
        "outputId": "efb99612-e0ad-4957-ba94-10686c22b281"
      },
      "execution_count": 1,
      "outputs": [
        {
          "output_type": "stream",
          "name": "stdout",
          "text": [
            "Downloading 1UBo5er8gULPZNS8e66ZRaMeueXuaKg6x into /content/download_required_files.py... Done.\n",
            "Unzipping...Done.\n"
          ]
        }
      ]
    },
    {
      "cell_type": "code",
      "source": [
        "from download_required_files import download_folder_from_drive"
      ],
      "metadata": {
        "id": "EN-n-83uvzAM"
      },
      "execution_count": 2,
      "outputs": []
    },
    {
      "cell_type": "code",
      "source": [
        "download_folder_from_drive('1boMVUEyNci6Cr0Z2nCwgYeseneZm39IC')"
      ],
      "metadata": {
        "colab": {
          "base_uri": "https://localhost:8080/",
          "height": 1000
        },
        "id": "OOjV2vhMwgxM",
        "outputId": "0db86be6-8955-4a27-8333-9dc949c54481"
      },
      "execution_count": 3,
      "outputs": [
        {
          "output_type": "stream",
          "name": "stdout",
          "text": [
            "1NayNIrjR6t5Z29hh89e9Lyq9bTmsdR1r Code application/vnd.google-apps.folder (1/11)\n"
          ]
        },
        {
          "output_type": "stream",
          "name": "stderr",
          "text": [
            "WARNING:googleapiclient._helpers:__init__() takes at most 3 positional arguments (4 given)\n"
          ]
        },
        {
          "output_type": "stream",
          "name": "stdout",
          "text": [
            "1Z474_8lZesF2gwmm3tNRmoTk2bZc1CiC UNetDataPreprocess.py text/x-python (1/4)\n",
            "Download 100%."
          ]
        },
        {
          "output_type": "stream",
          "name": "stderr",
          "text": [
            "WARNING:googleapiclient._helpers:__init__() takes at most 3 positional arguments (4 given)\n"
          ]
        },
        {
          "output_type": "stream",
          "name": "stdout",
          "text": [
            "\n",
            "1IukI6k7l_Wg4itgRtDm-AwL9M7SB2nDk UNet_Usage.py text/x-python (2/4)\n",
            "Download 100%."
          ]
        },
        {
          "output_type": "stream",
          "name": "stderr",
          "text": [
            "WARNING:googleapiclient._helpers:__init__() takes at most 3 positional arguments (4 given)\n"
          ]
        },
        {
          "output_type": "stream",
          "name": "stdout",
          "text": [
            "\n",
            "1duB1idMGgYv1A81YNKm2b7HqUXUbX0Oe UNet_Usage.py text/x-python (3/4)\n",
            "1UCOL2D-c4R6zbxe4wKLl0djfZGF8M_uO data_utils.py text/x-python (4/4)\n",
            "Download 100%."
          ]
        },
        {
          "output_type": "stream",
          "name": "stderr",
          "text": [
            "WARNING:googleapiclient._helpers:__init__() takes at most 3 positional arguments (4 given)\n"
          ]
        },
        {
          "output_type": "stream",
          "name": "stdout",
          "text": [
            "\n",
            "1G_sJ_ZhR4YtT4DHA932RhfHevq__JYP5 UNet_Usage.py text/x-python (2/11)\n",
            "Download 100%.\n",
            "1_EWkK4htEATAROmizujTleiU1zOEWIXk UNet_Usage.py text/x-python (3/11)\n",
            "1zr58LMaqIgaj7eLbvSng_jDlHq-W2xda dataset application/vnd.google-apps.folder (4/11)\n"
          ]
        },
        {
          "output_type": "stream",
          "name": "stderr",
          "text": [
            "WARNING:googleapiclient._helpers:__init__() takes at most 3 positional arguments (4 given)\n"
          ]
        },
        {
          "output_type": "stream",
          "name": "stdout",
          "text": [
            "1RbUnGjCLq79mIpE9J7H36VRNASWLS16E x_test.npy application/octet-stream (1/4)\n",
            "Download 100%."
          ]
        },
        {
          "output_type": "stream",
          "name": "stderr",
          "text": [
            "WARNING:googleapiclient._helpers:__init__() takes at most 3 positional arguments (4 given)\n"
          ]
        },
        {
          "output_type": "stream",
          "name": "stdout",
          "text": [
            "\n",
            "1a-Hf-_epdyAILGp7ZKIly_lUmez8eQuA x_train.npy application/octet-stream (2/4)\n",
            "Download 100%."
          ]
        },
        {
          "output_type": "stream",
          "name": "stderr",
          "text": [
            "WARNING:googleapiclient._helpers:__init__() takes at most 3 positional arguments (4 given)\n"
          ]
        },
        {
          "output_type": "stream",
          "name": "stdout",
          "text": [
            "\n",
            "1yuHdgHXOSHqiLWiTv7ToMBXH-q8oYRi0 y_test.npy application/octet-stream (3/4)\n",
            "Download 100%."
          ]
        },
        {
          "output_type": "stream",
          "name": "stderr",
          "text": [
            "WARNING:googleapiclient._helpers:__init__() takes at most 3 positional arguments (4 given)\n"
          ]
        },
        {
          "output_type": "stream",
          "name": "stdout",
          "text": [
            "\n",
            "1lUaGGXiQnfZ0VRClC37D-eBCcVbanQzI y_train.npy application/octet-stream (4/4)\n",
            "Download 100%.\n",
            "1EKHPHCt1c3uxWn_VL0E_bZO-e8ualPkp models application/vnd.google-apps.folder (5/11)\n"
          ]
        },
        {
          "output_type": "stream",
          "name": "stderr",
          "text": [
            "WARNING:googleapiclient._helpers:__init__() takes at most 3 positional arguments (4 given)\n"
          ]
        },
        {
          "output_type": "stream",
          "name": "stdout",
          "text": [
            "1LDlzT2L8HqpTClfQr4rbYtaTAPhC6faA UNet.py text/x-python (1/2)\n",
            "Download 100%.\n",
            "19pV90fExQ8tk3nC6lsNZbIG-EJ0j3Fjo __pycache__ application/vnd.google-apps.folder (2/2)\n"
          ]
        },
        {
          "output_type": "stream",
          "name": "stderr",
          "text": [
            "WARNING:googleapiclient._helpers:__init__() takes at most 3 positional arguments (4 given)\n"
          ]
        },
        {
          "output_type": "stream",
          "name": "stdout",
          "text": [
            "1wrNVuw94C03ePJDfBKv5dH05VPTu3cxL UNet.cpython-310.pyc application/x-python-code (1/3)\n",
            "Download 100%."
          ]
        },
        {
          "output_type": "stream",
          "name": "stderr",
          "text": [
            "WARNING:googleapiclient._helpers:__init__() takes at most 3 positional arguments (4 given)\n"
          ]
        },
        {
          "output_type": "stream",
          "name": "stdout",
          "text": [
            "\n",
            "17UclQYYkkEG9tEGIrB6Y_KDpyGJWwfKd UNet.cpython-36.pyc application/x-python-code (2/3)\n",
            "Download 100%."
          ]
        },
        {
          "output_type": "stream",
          "name": "stderr",
          "text": [
            "WARNING:googleapiclient._helpers:__init__() takes at most 3 positional arguments (4 given)\n"
          ]
        },
        {
          "output_type": "stream",
          "name": "stdout",
          "text": [
            "\n",
            "1OzD4EuNA2lGkmAz7b_hvztzZyS6gmRiA UNet2.cpython-310.pyc application/x-python-code (3/3)\n",
            "Download 100%.\n",
            "1qh42IwKh0r8DRbQm9J5Q8gwL_6gJj6vq tr_im application/vnd.google-apps.folder (6/11)\n"
          ]
        },
        {
          "output_type": "stream",
          "name": "stderr",
          "text": [
            "WARNING:googleapiclient._helpers:__init__() takes at most 3 positional arguments (4 given)\n"
          ]
        },
        {
          "output_type": "stream",
          "name": "stdout",
          "text": [
            "1ascxC0I-bqMWC2fhwwOIpvSx748obFqN tr_im_1.jpeg image/jpeg (1/99)\n",
            "Download 100%."
          ]
        },
        {
          "output_type": "stream",
          "name": "stderr",
          "text": [
            "WARNING:googleapiclient._helpers:__init__() takes at most 3 positional arguments (4 given)\n"
          ]
        },
        {
          "output_type": "stream",
          "name": "stdout",
          "text": [
            "\n",
            "1s11abladrfCBJ1ICSSOR5sN_PAHImaaP tr_im_10.jpeg image/jpeg (2/99)\n",
            "Download 100%."
          ]
        },
        {
          "output_type": "stream",
          "name": "stderr",
          "text": [
            "WARNING:googleapiclient._helpers:__init__() takes at most 3 positional arguments (4 given)\n"
          ]
        },
        {
          "output_type": "stream",
          "name": "stdout",
          "text": [
            "\n",
            "1sqVQYyxAEnq90knXycxTo4ZZHYc3JNtR tr_im_11.jpeg image/jpeg (3/99)\n",
            "Download 100%."
          ]
        },
        {
          "output_type": "stream",
          "name": "stderr",
          "text": [
            "WARNING:googleapiclient._helpers:__init__() takes at most 3 positional arguments (4 given)\n"
          ]
        },
        {
          "output_type": "stream",
          "name": "stdout",
          "text": [
            "\n",
            "1KMSgtJuVB4v4PJWNSK66fUHKlpJ1Z-J2 tr_im_12.jpeg image/jpeg (4/99)\n",
            "Download 100%."
          ]
        },
        {
          "output_type": "stream",
          "name": "stderr",
          "text": [
            "WARNING:googleapiclient._helpers:__init__() takes at most 3 positional arguments (4 given)\n"
          ]
        },
        {
          "output_type": "stream",
          "name": "stdout",
          "text": [
            "\n",
            "17_cF2nm3nDQdMybwpUhhcRdG0ENVKn4J tr_im_13.jpeg image/jpeg (5/99)\n",
            "Download 100%."
          ]
        },
        {
          "output_type": "stream",
          "name": "stderr",
          "text": [
            "WARNING:googleapiclient._helpers:__init__() takes at most 3 positional arguments (4 given)\n"
          ]
        },
        {
          "output_type": "stream",
          "name": "stdout",
          "text": [
            "\n",
            "1RiJmesxT_6R6GavkWY3hWFEYjn_lLAb0 tr_im_14.jpeg image/jpeg (6/99)\n",
            "Download 100%."
          ]
        },
        {
          "output_type": "stream",
          "name": "stderr",
          "text": [
            "WARNING:googleapiclient._helpers:__init__() takes at most 3 positional arguments (4 given)\n"
          ]
        },
        {
          "output_type": "stream",
          "name": "stdout",
          "text": [
            "\n",
            "1po-DmEdM311TphoTyFdBkJCcNRlSNIaD tr_im_15.jpeg image/jpeg (7/99)\n",
            "Download 100%."
          ]
        },
        {
          "output_type": "stream",
          "name": "stderr",
          "text": [
            "WARNING:googleapiclient._helpers:__init__() takes at most 3 positional arguments (4 given)\n"
          ]
        },
        {
          "output_type": "stream",
          "name": "stdout",
          "text": [
            "\n",
            "1zexjqyFxCzNUJfnovgop7anw0bjAFdSs tr_im_16.jpeg image/jpeg (8/99)\n",
            "Download 100%."
          ]
        },
        {
          "output_type": "stream",
          "name": "stderr",
          "text": [
            "WARNING:googleapiclient._helpers:__init__() takes at most 3 positional arguments (4 given)\n"
          ]
        },
        {
          "output_type": "stream",
          "name": "stdout",
          "text": [
            "\n",
            "1GD3y8Ern16WEZnOMA1zXyLoagnGUeqRx tr_im_17.jpeg image/jpeg (9/99)\n",
            "Download 100%."
          ]
        },
        {
          "output_type": "stream",
          "name": "stderr",
          "text": [
            "WARNING:googleapiclient._helpers:__init__() takes at most 3 positional arguments (4 given)\n"
          ]
        },
        {
          "output_type": "stream",
          "name": "stdout",
          "text": [
            "\n",
            "1lvSHzS5xHwMCj3e4RlzVm_63DQRFa67p tr_im_18.jpeg image/jpeg (10/99)\n",
            "Download 100%."
          ]
        },
        {
          "output_type": "stream",
          "name": "stderr",
          "text": [
            "WARNING:googleapiclient._helpers:__init__() takes at most 3 positional arguments (4 given)\n"
          ]
        },
        {
          "output_type": "stream",
          "name": "stdout",
          "text": [
            "\n",
            "1FNgCuVCXTsTXRUcwWRrYu6FCsib3tpTZ tr_im_19.jpeg image/jpeg (11/99)\n",
            "Download 100%."
          ]
        },
        {
          "output_type": "stream",
          "name": "stderr",
          "text": [
            "WARNING:googleapiclient._helpers:__init__() takes at most 3 positional arguments (4 given)\n"
          ]
        },
        {
          "output_type": "stream",
          "name": "stdout",
          "text": [
            "\n",
            "1Xflgc9cA4O2kK005AFqKkEHuRw_w3NmI tr_im_2.jpeg image/jpeg (12/99)\n",
            "Download 100%."
          ]
        },
        {
          "output_type": "stream",
          "name": "stderr",
          "text": [
            "WARNING:googleapiclient._helpers:__init__() takes at most 3 positional arguments (4 given)\n"
          ]
        },
        {
          "output_type": "stream",
          "name": "stdout",
          "text": [
            "\n",
            "1izGY1VcXySkiw252oKWEtoxre8n_OCav tr_im_20.jpeg image/jpeg (13/99)\n",
            "Download 100%."
          ]
        },
        {
          "output_type": "stream",
          "name": "stderr",
          "text": [
            "WARNING:googleapiclient._helpers:__init__() takes at most 3 positional arguments (4 given)\n"
          ]
        },
        {
          "output_type": "stream",
          "name": "stdout",
          "text": [
            "\n",
            "1dToV2DJ8_dUjce11ETR115mjNOeBUqht tr_im_21.jpeg image/jpeg (14/99)\n",
            "Download 100%."
          ]
        },
        {
          "output_type": "stream",
          "name": "stderr",
          "text": [
            "WARNING:googleapiclient._helpers:__init__() takes at most 3 positional arguments (4 given)\n"
          ]
        },
        {
          "output_type": "stream",
          "name": "stdout",
          "text": [
            "\n",
            "19DILCCCchxvb0D2xLosdyoW3boqZlcRS tr_im_22.jpeg image/jpeg (15/99)\n",
            "Download 100%."
          ]
        },
        {
          "output_type": "stream",
          "name": "stderr",
          "text": [
            "WARNING:googleapiclient._helpers:__init__() takes at most 3 positional arguments (4 given)\n"
          ]
        },
        {
          "output_type": "stream",
          "name": "stdout",
          "text": [
            "\n",
            "1tbvBEyv2LxURB9vgwPd5mjUjkQr-1B5g tr_im_23.jpeg image/jpeg (16/99)\n",
            "Download 100%."
          ]
        },
        {
          "output_type": "stream",
          "name": "stderr",
          "text": [
            "WARNING:googleapiclient._helpers:__init__() takes at most 3 positional arguments (4 given)\n"
          ]
        },
        {
          "output_type": "stream",
          "name": "stdout",
          "text": [
            "\n",
            "1y_sI8dVEztWlBj87GNQKjttpfJuR1i2u tr_im_24.jpeg image/jpeg (17/99)\n",
            "Download 100%."
          ]
        },
        {
          "output_type": "stream",
          "name": "stderr",
          "text": [
            "WARNING:googleapiclient._helpers:__init__() takes at most 3 positional arguments (4 given)\n"
          ]
        },
        {
          "output_type": "stream",
          "name": "stdout",
          "text": [
            "\n",
            "1M43mTUHEtcaGv3X2WvcqObQjV1zctJVh tr_im_25.jpeg image/jpeg (18/99)\n",
            "Download 100%."
          ]
        },
        {
          "output_type": "stream",
          "name": "stderr",
          "text": [
            "WARNING:googleapiclient._helpers:__init__() takes at most 3 positional arguments (4 given)\n"
          ]
        },
        {
          "output_type": "stream",
          "name": "stdout",
          "text": [
            "\n",
            "1DFxsDFosTR1nxY9CMTUHmGyRxPf_6eKP tr_im_26.jpeg image/jpeg (19/99)\n",
            "Download 100%."
          ]
        },
        {
          "output_type": "stream",
          "name": "stderr",
          "text": [
            "WARNING:googleapiclient._helpers:__init__() takes at most 3 positional arguments (4 given)\n"
          ]
        },
        {
          "output_type": "stream",
          "name": "stdout",
          "text": [
            "\n",
            "1Y7la__4OsULrTLitd4uKbK07wuX5H0XY tr_im_27.jpeg image/jpeg (20/99)\n",
            "Download 100%."
          ]
        },
        {
          "output_type": "stream",
          "name": "stderr",
          "text": [
            "WARNING:googleapiclient._helpers:__init__() takes at most 3 positional arguments (4 given)\n"
          ]
        },
        {
          "output_type": "stream",
          "name": "stdout",
          "text": [
            "\n",
            "1tvjRlvKh0YJbhqXOpR8vx50f6KsiFG57 tr_im_28.jpeg image/jpeg (21/99)\n",
            "Download 100%."
          ]
        },
        {
          "output_type": "stream",
          "name": "stderr",
          "text": [
            "WARNING:googleapiclient._helpers:__init__() takes at most 3 positional arguments (4 given)\n"
          ]
        },
        {
          "output_type": "stream",
          "name": "stdout",
          "text": [
            "\n",
            "1nXH1qb66scQy5IUazJQQmgVLu2MwwPjT tr_im_29.jpeg image/jpeg (22/99)\n",
            "Download 100%."
          ]
        },
        {
          "output_type": "stream",
          "name": "stderr",
          "text": [
            "WARNING:googleapiclient._helpers:__init__() takes at most 3 positional arguments (4 given)\n"
          ]
        },
        {
          "output_type": "stream",
          "name": "stdout",
          "text": [
            "\n",
            "1x9WHpjz51yp9pFXzuvNJ22Ycl11269xp tr_im_3.jpeg image/jpeg (23/99)\n",
            "Download 100%."
          ]
        },
        {
          "output_type": "stream",
          "name": "stderr",
          "text": [
            "WARNING:googleapiclient._helpers:__init__() takes at most 3 positional arguments (4 given)\n"
          ]
        },
        {
          "output_type": "stream",
          "name": "stdout",
          "text": [
            "\n",
            "1FNoqXciXnXsAAxUCnNG6ktpm-Xs5e4wy tr_im_30.jpeg image/jpeg (24/99)\n",
            "Download 100%."
          ]
        },
        {
          "output_type": "stream",
          "name": "stderr",
          "text": [
            "WARNING:googleapiclient._helpers:__init__() takes at most 3 positional arguments (4 given)\n"
          ]
        },
        {
          "output_type": "stream",
          "name": "stdout",
          "text": [
            "\n",
            "1-ZCM3D3CtVq4nBqsympXX3RW0A4I1JLs tr_im_31.jpeg image/jpeg (25/99)\n",
            "Download 100%."
          ]
        },
        {
          "output_type": "stream",
          "name": "stderr",
          "text": [
            "WARNING:googleapiclient._helpers:__init__() takes at most 3 positional arguments (4 given)\n"
          ]
        },
        {
          "output_type": "stream",
          "name": "stdout",
          "text": [
            "\n",
            "1P4zrCjJowFhIx1kVz4xaKp4VFxXMlwXq tr_im_32.jpeg image/jpeg (26/99)\n",
            "Download 100%."
          ]
        },
        {
          "output_type": "stream",
          "name": "stderr",
          "text": [
            "WARNING:googleapiclient._helpers:__init__() takes at most 3 positional arguments (4 given)\n"
          ]
        },
        {
          "output_type": "stream",
          "name": "stdout",
          "text": [
            "\n",
            "1_n8FfnTvc6RlaIE3nP7R99vnn5uIejD5 tr_im_33.jpeg image/jpeg (27/99)\n",
            "Download 100%."
          ]
        },
        {
          "output_type": "stream",
          "name": "stderr",
          "text": [
            "WARNING:googleapiclient._helpers:__init__() takes at most 3 positional arguments (4 given)\n"
          ]
        },
        {
          "output_type": "stream",
          "name": "stdout",
          "text": [
            "\n",
            "1zjXesXKT7dB_nuoAiZlEZCjLCKgNTsL9 tr_im_34.jpeg image/jpeg (28/99)\n",
            "Download 100%."
          ]
        },
        {
          "output_type": "stream",
          "name": "stderr",
          "text": [
            "WARNING:googleapiclient._helpers:__init__() takes at most 3 positional arguments (4 given)\n"
          ]
        },
        {
          "output_type": "stream",
          "name": "stdout",
          "text": [
            "\n",
            "1GdwxLI-2rvlBuJxpaRHMt4JmPe3jHZVr tr_im_35.jpeg image/jpeg (29/99)\n",
            "Download 100%."
          ]
        },
        {
          "output_type": "stream",
          "name": "stderr",
          "text": [
            "WARNING:googleapiclient._helpers:__init__() takes at most 3 positional arguments (4 given)\n"
          ]
        },
        {
          "output_type": "stream",
          "name": "stdout",
          "text": [
            "\n",
            "1aZx739oUutrIjyM3bQkW6iWeTd4Fgurk tr_im_36.jpeg image/jpeg (30/99)\n",
            "Download 100%."
          ]
        },
        {
          "output_type": "stream",
          "name": "stderr",
          "text": [
            "WARNING:googleapiclient._helpers:__init__() takes at most 3 positional arguments (4 given)\n"
          ]
        },
        {
          "output_type": "stream",
          "name": "stdout",
          "text": [
            "\n",
            "1WVoDoCsb9-xDNC7srpKy2zxgd-X6w-C2 tr_im_37.jpeg image/jpeg (31/99)\n",
            "Download 100%."
          ]
        },
        {
          "output_type": "stream",
          "name": "stderr",
          "text": [
            "WARNING:googleapiclient._helpers:__init__() takes at most 3 positional arguments (4 given)\n"
          ]
        },
        {
          "output_type": "stream",
          "name": "stdout",
          "text": [
            "\n",
            "12TlpV39gioUZ8noBrrAD86d78j9FnGOd tr_im_38.jpeg image/jpeg (32/99)\n",
            "Download 100%."
          ]
        },
        {
          "output_type": "stream",
          "name": "stderr",
          "text": [
            "WARNING:googleapiclient._helpers:__init__() takes at most 3 positional arguments (4 given)\n"
          ]
        },
        {
          "output_type": "stream",
          "name": "stdout",
          "text": [
            "\n",
            "15oEq6n80v0JIZnjXfZ9gRxoG5hzrMV9l tr_im_39.jpeg image/jpeg (33/99)\n",
            "Download 100%."
          ]
        },
        {
          "output_type": "stream",
          "name": "stderr",
          "text": [
            "WARNING:googleapiclient._helpers:__init__() takes at most 3 positional arguments (4 given)\n"
          ]
        },
        {
          "output_type": "stream",
          "name": "stdout",
          "text": [
            "\n",
            "1djmHQ_47QLo91ov3KhKn8VBffuUaiU0w tr_im_4.jpeg image/jpeg (34/99)\n",
            "Download 100%."
          ]
        },
        {
          "output_type": "stream",
          "name": "stderr",
          "text": [
            "WARNING:googleapiclient._helpers:__init__() takes at most 3 positional arguments (4 given)\n"
          ]
        },
        {
          "output_type": "stream",
          "name": "stdout",
          "text": [
            "\n",
            "1WxHujp8Sr8ozf1ekqGI2EIvKfUVfsefG tr_im_40.jpeg image/jpeg (35/99)\n",
            "Download 100%."
          ]
        },
        {
          "output_type": "stream",
          "name": "stderr",
          "text": [
            "WARNING:googleapiclient._helpers:__init__() takes at most 3 positional arguments (4 given)\n"
          ]
        },
        {
          "output_type": "stream",
          "name": "stdout",
          "text": [
            "\n",
            "1lnQ2QsR9Y2LDfOZwRozFxKyeFLLcZM0b tr_im_41.jpeg image/jpeg (36/99)\n",
            "Download 100%."
          ]
        },
        {
          "output_type": "stream",
          "name": "stderr",
          "text": [
            "WARNING:googleapiclient._helpers:__init__() takes at most 3 positional arguments (4 given)\n"
          ]
        },
        {
          "output_type": "stream",
          "name": "stdout",
          "text": [
            "\n",
            "1ZxrPadBuJdXvYcXVO1XrKi06Sr8saCHa tr_im_42.jpeg image/jpeg (37/99)\n",
            "Download 100%."
          ]
        },
        {
          "output_type": "stream",
          "name": "stderr",
          "text": [
            "WARNING:googleapiclient._helpers:__init__() takes at most 3 positional arguments (4 given)\n"
          ]
        },
        {
          "output_type": "stream",
          "name": "stdout",
          "text": [
            "\n",
            "1vJANH237SwfVa6V1urInmZlN_zTRT8IT tr_im_43.jpeg image/jpeg (38/99)\n",
            "Download 100%."
          ]
        },
        {
          "output_type": "stream",
          "name": "stderr",
          "text": [
            "WARNING:googleapiclient._helpers:__init__() takes at most 3 positional arguments (4 given)\n"
          ]
        },
        {
          "output_type": "stream",
          "name": "stdout",
          "text": [
            "\n",
            "1ihqlhNUCZLmjzB2nlUQOntCNR_HJdoHg tr_im_44.jpeg image/jpeg (39/99)\n",
            "Download 100%."
          ]
        },
        {
          "output_type": "stream",
          "name": "stderr",
          "text": [
            "WARNING:googleapiclient._helpers:__init__() takes at most 3 positional arguments (4 given)\n"
          ]
        },
        {
          "output_type": "stream",
          "name": "stdout",
          "text": [
            "\n",
            "1Y6Fnl_aDdfE_l5wru9aou--ne4X0jIBM tr_im_45.jpeg image/jpeg (40/99)\n",
            "Download 100%."
          ]
        },
        {
          "output_type": "stream",
          "name": "stderr",
          "text": [
            "WARNING:googleapiclient._helpers:__init__() takes at most 3 positional arguments (4 given)\n"
          ]
        },
        {
          "output_type": "stream",
          "name": "stdout",
          "text": [
            "\n",
            "1nf7qEhqjE2OaGsBZNdNO48wgXlBQdAKd tr_im_46.jpeg image/jpeg (41/99)\n",
            "Download 100%."
          ]
        },
        {
          "output_type": "stream",
          "name": "stderr",
          "text": [
            "WARNING:googleapiclient._helpers:__init__() takes at most 3 positional arguments (4 given)\n"
          ]
        },
        {
          "output_type": "stream",
          "name": "stdout",
          "text": [
            "\n",
            "11JuCDJm3t6b0mV0l6h3Mb-88ID0HzVrl tr_im_47.jpeg image/jpeg (42/99)\n",
            "Download 100%."
          ]
        },
        {
          "output_type": "stream",
          "name": "stderr",
          "text": [
            "WARNING:googleapiclient._helpers:__init__() takes at most 3 positional arguments (4 given)\n"
          ]
        },
        {
          "output_type": "stream",
          "name": "stdout",
          "text": [
            "\n",
            "1c-0Q9kbti6Xam1qJ2vT62MvMjVQwKvjG tr_im_48.jpeg image/jpeg (43/99)\n",
            "Download 100%."
          ]
        },
        {
          "output_type": "stream",
          "name": "stderr",
          "text": [
            "WARNING:googleapiclient._helpers:__init__() takes at most 3 positional arguments (4 given)\n"
          ]
        },
        {
          "output_type": "stream",
          "name": "stdout",
          "text": [
            "\n",
            "1MMRAdtlVaZwV_vpmtq44qy8XObpg9Czy tr_im_49.jpeg image/jpeg (44/99)\n",
            "Download 100%."
          ]
        },
        {
          "output_type": "stream",
          "name": "stderr",
          "text": [
            "WARNING:googleapiclient._helpers:__init__() takes at most 3 positional arguments (4 given)\n"
          ]
        },
        {
          "output_type": "stream",
          "name": "stdout",
          "text": [
            "\n",
            "1X5JRUp6JktDyY5h26VhpxupK4Qo-5T0q tr_im_5.jpeg image/jpeg (45/99)\n",
            "Download 100%."
          ]
        },
        {
          "output_type": "stream",
          "name": "stderr",
          "text": [
            "WARNING:googleapiclient._helpers:__init__() takes at most 3 positional arguments (4 given)\n"
          ]
        },
        {
          "output_type": "stream",
          "name": "stdout",
          "text": [
            "\n",
            "1We7UUBNSlytDj_Wzaok84bK4AzTAmo3t tr_im_50.jpeg image/jpeg (46/99)\n",
            "Download 100%."
          ]
        },
        {
          "output_type": "stream",
          "name": "stderr",
          "text": [
            "WARNING:googleapiclient._helpers:__init__() takes at most 3 positional arguments (4 given)\n"
          ]
        },
        {
          "output_type": "stream",
          "name": "stdout",
          "text": [
            "\n",
            "1ej-Qh4O21p_vK5rssNOhEDqk1TjasxfB tr_im_51.jpeg image/jpeg (47/99)\n",
            "Download 100%."
          ]
        },
        {
          "output_type": "stream",
          "name": "stderr",
          "text": [
            "WARNING:googleapiclient._helpers:__init__() takes at most 3 positional arguments (4 given)\n"
          ]
        },
        {
          "output_type": "stream",
          "name": "stdout",
          "text": [
            "\n",
            "1YUZEfBrp6i7pqQh46PycilQelWjs-VmQ tr_im_52.jpeg image/jpeg (48/99)\n",
            "Download 100%."
          ]
        },
        {
          "output_type": "stream",
          "name": "stderr",
          "text": [
            "WARNING:googleapiclient._helpers:__init__() takes at most 3 positional arguments (4 given)\n"
          ]
        },
        {
          "output_type": "stream",
          "name": "stdout",
          "text": [
            "\n",
            "15XtbG7dZHPqvT2GZLU5SPCtIgYMZEV-y tr_im_53.jpeg image/jpeg (49/99)\n",
            "Download 100%."
          ]
        },
        {
          "output_type": "stream",
          "name": "stderr",
          "text": [
            "WARNING:googleapiclient._helpers:__init__() takes at most 3 positional arguments (4 given)\n"
          ]
        },
        {
          "output_type": "stream",
          "name": "stdout",
          "text": [
            "\n",
            "1sYPJCTU9qPMFD-UFfJxuAWhJQNzlD3N2 tr_im_54.jpeg image/jpeg (50/99)\n",
            "Download 100%."
          ]
        },
        {
          "output_type": "stream",
          "name": "stderr",
          "text": [
            "WARNING:googleapiclient._helpers:__init__() takes at most 3 positional arguments (4 given)\n"
          ]
        },
        {
          "output_type": "stream",
          "name": "stdout",
          "text": [
            "\n",
            "1t6cVF5zUpEIT_i_0FtGf_oHbTMmjvL-H tr_im_55.jpeg image/jpeg (51/99)\n",
            "Download 100%."
          ]
        },
        {
          "output_type": "stream",
          "name": "stderr",
          "text": [
            "WARNING:googleapiclient._helpers:__init__() takes at most 3 positional arguments (4 given)\n"
          ]
        },
        {
          "output_type": "stream",
          "name": "stdout",
          "text": [
            "\n",
            "1luHEvVUUk5KYVLDWW1xhtGvAQUdtyB8r tr_im_56.jpeg image/jpeg (52/99)\n",
            "Download 100%."
          ]
        },
        {
          "output_type": "stream",
          "name": "stderr",
          "text": [
            "WARNING:googleapiclient._helpers:__init__() takes at most 3 positional arguments (4 given)\n"
          ]
        },
        {
          "output_type": "stream",
          "name": "stdout",
          "text": [
            "\n",
            "1JhH-fSYYUgn3NFTw083aD68X2ApvUtvR tr_im_57.jpeg image/jpeg (53/99)\n",
            "Download 100%."
          ]
        },
        {
          "output_type": "stream",
          "name": "stderr",
          "text": [
            "WARNING:googleapiclient._helpers:__init__() takes at most 3 positional arguments (4 given)\n"
          ]
        },
        {
          "output_type": "stream",
          "name": "stdout",
          "text": [
            "\n",
            "1WjgS9Ja9iLkCRb25JHJ53q607d-hZ5kZ tr_im_58.jpeg image/jpeg (54/99)\n",
            "Download 100%."
          ]
        },
        {
          "output_type": "stream",
          "name": "stderr",
          "text": [
            "WARNING:googleapiclient._helpers:__init__() takes at most 3 positional arguments (4 given)\n"
          ]
        },
        {
          "output_type": "stream",
          "name": "stdout",
          "text": [
            "\n",
            "1P-vqK485cWR5ic4yf-TY4hmoNYcJevDx tr_im_59.jpeg image/jpeg (55/99)\n",
            "Download 100%."
          ]
        },
        {
          "output_type": "stream",
          "name": "stderr",
          "text": [
            "WARNING:googleapiclient._helpers:__init__() takes at most 3 positional arguments (4 given)\n"
          ]
        },
        {
          "output_type": "stream",
          "name": "stdout",
          "text": [
            "\n",
            "1Z882kQM3j5vTX2WfsX9hOSWZAFN9hT5z tr_im_6.jpeg image/jpeg (56/99)\n",
            "Download 100%."
          ]
        },
        {
          "output_type": "stream",
          "name": "stderr",
          "text": [
            "WARNING:googleapiclient._helpers:__init__() takes at most 3 positional arguments (4 given)\n"
          ]
        },
        {
          "output_type": "stream",
          "name": "stdout",
          "text": [
            "\n",
            "17rjxyK9I_GgzcZHmS7boC84MVsCnZuYf tr_im_60.jpeg image/jpeg (57/99)\n",
            "Download 100%."
          ]
        },
        {
          "output_type": "stream",
          "name": "stderr",
          "text": [
            "WARNING:googleapiclient._helpers:__init__() takes at most 3 positional arguments (4 given)\n"
          ]
        },
        {
          "output_type": "stream",
          "name": "stdout",
          "text": [
            "\n",
            "1_IL6NvnvfpB2d1kISOHAemK8QkHlHFzq tr_im_61.jpeg image/jpeg (58/99)\n",
            "Download 100%."
          ]
        },
        {
          "output_type": "stream",
          "name": "stderr",
          "text": [
            "WARNING:googleapiclient._helpers:__init__() takes at most 3 positional arguments (4 given)\n"
          ]
        },
        {
          "output_type": "stream",
          "name": "stdout",
          "text": [
            "\n",
            "1t-0GKH9kHk4-YviomIXvunUvBsogl7uC tr_im_62.jpeg image/jpeg (59/99)\n",
            "Download 100%."
          ]
        },
        {
          "output_type": "stream",
          "name": "stderr",
          "text": [
            "WARNING:googleapiclient._helpers:__init__() takes at most 3 positional arguments (4 given)\n"
          ]
        },
        {
          "output_type": "stream",
          "name": "stdout",
          "text": [
            "\n",
            "1tZN9U67M1FO0E5dF_6xrXbqG6hcbB6P4 tr_im_63.jpeg image/jpeg (60/99)\n",
            "Download 100%."
          ]
        },
        {
          "output_type": "stream",
          "name": "stderr",
          "text": [
            "WARNING:googleapiclient._helpers:__init__() takes at most 3 positional arguments (4 given)\n"
          ]
        },
        {
          "output_type": "stream",
          "name": "stdout",
          "text": [
            "\n",
            "1QWhUH_w-F0GQSKKxCEgtaApoX2gCMJ8v tr_im_64.jpeg image/jpeg (61/99)\n",
            "Download 100%."
          ]
        },
        {
          "output_type": "stream",
          "name": "stderr",
          "text": [
            "WARNING:googleapiclient._helpers:__init__() takes at most 3 positional arguments (4 given)\n"
          ]
        },
        {
          "output_type": "stream",
          "name": "stdout",
          "text": [
            "\n",
            "1rKga9mHGUlFNSaz7SNLud7zOChxQaPWN tr_im_65.jpeg image/jpeg (62/99)\n",
            "Download 100%."
          ]
        },
        {
          "output_type": "stream",
          "name": "stderr",
          "text": [
            "WARNING:googleapiclient._helpers:__init__() takes at most 3 positional arguments (4 given)\n"
          ]
        },
        {
          "output_type": "stream",
          "name": "stdout",
          "text": [
            "\n",
            "1yUnG9zB9-dcpLtXV8F9EpJ_ydMxtnwCz tr_im_66.jpeg image/jpeg (63/99)\n",
            "Download 100%."
          ]
        },
        {
          "output_type": "stream",
          "name": "stderr",
          "text": [
            "WARNING:googleapiclient._helpers:__init__() takes at most 3 positional arguments (4 given)\n"
          ]
        },
        {
          "output_type": "stream",
          "name": "stdout",
          "text": [
            "\n",
            "1FmAU9KGm_-3suF6E_TQ60LjidX5eiyTb tr_im_67.jpeg image/jpeg (64/99)\n",
            "Download 100%."
          ]
        },
        {
          "output_type": "stream",
          "name": "stderr",
          "text": [
            "WARNING:googleapiclient._helpers:__init__() takes at most 3 positional arguments (4 given)\n"
          ]
        },
        {
          "output_type": "stream",
          "name": "stdout",
          "text": [
            "\n",
            "1aPBKhPFBs_RV06xAXg0INriBxROm6N4g tr_im_68.jpeg image/jpeg (65/99)\n",
            "Download 100%."
          ]
        },
        {
          "output_type": "stream",
          "name": "stderr",
          "text": [
            "WARNING:googleapiclient._helpers:__init__() takes at most 3 positional arguments (4 given)\n"
          ]
        },
        {
          "output_type": "stream",
          "name": "stdout",
          "text": [
            "\n",
            "1cQ1VUaI5A9y3Ao917roHNDPqt3wc1M76 tr_im_69.jpeg image/jpeg (66/99)\n",
            "Download 100%."
          ]
        },
        {
          "output_type": "stream",
          "name": "stderr",
          "text": [
            "WARNING:googleapiclient._helpers:__init__() takes at most 3 positional arguments (4 given)\n"
          ]
        },
        {
          "output_type": "stream",
          "name": "stdout",
          "text": [
            "\n",
            "16GEqC8hHSOWVkqNZrNk24JaEGWPQDyAl tr_im_7.jpeg image/jpeg (67/99)\n",
            "Download 100%."
          ]
        },
        {
          "output_type": "stream",
          "name": "stderr",
          "text": [
            "WARNING:googleapiclient._helpers:__init__() takes at most 3 positional arguments (4 given)\n"
          ]
        },
        {
          "output_type": "stream",
          "name": "stdout",
          "text": [
            "\n",
            "1-Nel4MhQADjTS8qxxooGMnfdT6aEsioF tr_im_70.jpeg image/jpeg (68/99)\n",
            "Download 100%."
          ]
        },
        {
          "output_type": "stream",
          "name": "stderr",
          "text": [
            "WARNING:googleapiclient._helpers:__init__() takes at most 3 positional arguments (4 given)\n"
          ]
        },
        {
          "output_type": "stream",
          "name": "stdout",
          "text": [
            "\n",
            "179Wbx9zioZh-9mTV9uVNmx7Uwnhs5Mdp tr_im_71.jpeg image/jpeg (69/99)\n",
            "Download 100%."
          ]
        },
        {
          "output_type": "stream",
          "name": "stderr",
          "text": [
            "WARNING:googleapiclient._helpers:__init__() takes at most 3 positional arguments (4 given)\n"
          ]
        },
        {
          "output_type": "stream",
          "name": "stdout",
          "text": [
            "\n",
            "1sFsl62MjLpotDK_LIwfq8AZ8K8k1TCz3 tr_im_72.jpeg image/jpeg (70/99)\n",
            "Download 100%."
          ]
        },
        {
          "output_type": "stream",
          "name": "stderr",
          "text": [
            "WARNING:googleapiclient._helpers:__init__() takes at most 3 positional arguments (4 given)\n"
          ]
        },
        {
          "output_type": "stream",
          "name": "stdout",
          "text": [
            "\n",
            "1i8ftGf3NeRCl2O7Kh8uH8ok4662tYiJf tr_im_73.jpeg image/jpeg (71/99)\n",
            "Download 100%."
          ]
        },
        {
          "output_type": "stream",
          "name": "stderr",
          "text": [
            "WARNING:googleapiclient._helpers:__init__() takes at most 3 positional arguments (4 given)\n"
          ]
        },
        {
          "output_type": "stream",
          "name": "stdout",
          "text": [
            "\n",
            "1fYS7ixaFT2r1s4XUt7QEF85Uzy4L70oH tr_im_74.jpeg image/jpeg (72/99)\n",
            "Download 100%."
          ]
        },
        {
          "output_type": "stream",
          "name": "stderr",
          "text": [
            "WARNING:googleapiclient._helpers:__init__() takes at most 3 positional arguments (4 given)\n"
          ]
        },
        {
          "output_type": "stream",
          "name": "stdout",
          "text": [
            "\n",
            "1YLpHdlp59qzhB0pzVdYtiUHCsb9nudqQ tr_im_75.jpeg image/jpeg (73/99)\n",
            "Download 100%."
          ]
        },
        {
          "output_type": "stream",
          "name": "stderr",
          "text": [
            "WARNING:googleapiclient._helpers:__init__() takes at most 3 positional arguments (4 given)\n"
          ]
        },
        {
          "output_type": "stream",
          "name": "stdout",
          "text": [
            "\n",
            "1mN6nTo3FVm2WdvsuZ_wudsh2F1HNlvAW tr_im_76.jpeg image/jpeg (74/99)\n",
            "Download 100%."
          ]
        },
        {
          "output_type": "stream",
          "name": "stderr",
          "text": [
            "WARNING:googleapiclient._helpers:__init__() takes at most 3 positional arguments (4 given)\n"
          ]
        },
        {
          "output_type": "stream",
          "name": "stdout",
          "text": [
            "\n",
            "1Z2G5xCJjJylYxca_ACY2JqRjo7UUzbaX tr_im_77.jpeg image/jpeg (75/99)\n",
            "Download 100%."
          ]
        },
        {
          "output_type": "stream",
          "name": "stderr",
          "text": [
            "WARNING:googleapiclient._helpers:__init__() takes at most 3 positional arguments (4 given)\n"
          ]
        },
        {
          "output_type": "stream",
          "name": "stdout",
          "text": [
            "\n",
            "1mDwUeSOqOQs4orSuLAYUjq6QCnowYSOs tr_im_78.jpeg image/jpeg (76/99)\n",
            "Download 100%."
          ]
        },
        {
          "output_type": "stream",
          "name": "stderr",
          "text": [
            "WARNING:googleapiclient._helpers:__init__() takes at most 3 positional arguments (4 given)\n"
          ]
        },
        {
          "output_type": "stream",
          "name": "stdout",
          "text": [
            "\n",
            "1qmt4zZNuAJypAwzcQU3T-xo8ZqHIFoTD tr_im_79.jpeg image/jpeg (77/99)\n",
            "Download 100%."
          ]
        },
        {
          "output_type": "stream",
          "name": "stderr",
          "text": [
            "WARNING:googleapiclient._helpers:__init__() takes at most 3 positional arguments (4 given)\n"
          ]
        },
        {
          "output_type": "stream",
          "name": "stdout",
          "text": [
            "\n",
            "15O9MVP4Lvtdop6KcBVYGAeNSTqjZ4NlB tr_im_8.jpeg image/jpeg (78/99)\n",
            "Download 100%."
          ]
        },
        {
          "output_type": "stream",
          "name": "stderr",
          "text": [
            "WARNING:googleapiclient._helpers:__init__() takes at most 3 positional arguments (4 given)\n"
          ]
        },
        {
          "output_type": "stream",
          "name": "stdout",
          "text": [
            "\n",
            "1DR1CvOk44MbdS8xM2KRgIAzUACm33qik tr_im_80.jpeg image/jpeg (79/99)\n",
            "Download 100%."
          ]
        },
        {
          "output_type": "stream",
          "name": "stderr",
          "text": [
            "WARNING:googleapiclient._helpers:__init__() takes at most 3 positional arguments (4 given)\n"
          ]
        },
        {
          "output_type": "stream",
          "name": "stdout",
          "text": [
            "\n",
            "17PbO4E3AH2MlDAI1Z6CS6T1sisc2OcdT tr_im_81.jpeg image/jpeg (80/99)\n",
            "Download 100%."
          ]
        },
        {
          "output_type": "stream",
          "name": "stderr",
          "text": [
            "WARNING:googleapiclient._helpers:__init__() takes at most 3 positional arguments (4 given)\n"
          ]
        },
        {
          "output_type": "stream",
          "name": "stdout",
          "text": [
            "\n",
            "19_6D8XCFlRY-GqEHqk8jOIsEEYjzBhyn tr_im_82.jpeg image/jpeg (81/99)\n",
            "Download 100%."
          ]
        },
        {
          "output_type": "stream",
          "name": "stderr",
          "text": [
            "WARNING:googleapiclient._helpers:__init__() takes at most 3 positional arguments (4 given)\n"
          ]
        },
        {
          "output_type": "stream",
          "name": "stdout",
          "text": [
            "\n",
            "1JLNfjLTnOcFFIlh1H6WfJ-XUYh8smd6P tr_im_83.jpeg image/jpeg (82/99)\n",
            "Download 100%."
          ]
        },
        {
          "output_type": "stream",
          "name": "stderr",
          "text": [
            "WARNING:googleapiclient._helpers:__init__() takes at most 3 positional arguments (4 given)\n"
          ]
        },
        {
          "output_type": "stream",
          "name": "stdout",
          "text": [
            "\n",
            "1tLe9HfAViyAjRPGr1eUFBjb_j4DGv0BQ tr_im_84.jpeg image/jpeg (83/99)\n",
            "Download 100%."
          ]
        },
        {
          "output_type": "stream",
          "name": "stderr",
          "text": [
            "WARNING:googleapiclient._helpers:__init__() takes at most 3 positional arguments (4 given)\n"
          ]
        },
        {
          "output_type": "stream",
          "name": "stdout",
          "text": [
            "\n",
            "1EQChnqv_2VoR0wZ6nwHalclLQD1JuYOE tr_im_85.jpeg image/jpeg (84/99)\n",
            "Download 100%."
          ]
        },
        {
          "output_type": "stream",
          "name": "stderr",
          "text": [
            "WARNING:googleapiclient._helpers:__init__() takes at most 3 positional arguments (4 given)\n"
          ]
        },
        {
          "output_type": "stream",
          "name": "stdout",
          "text": [
            "\n",
            "15Wxv4JMhPcQmWzmDCeMcZNNQJYToAT67 tr_im_86.jpeg image/jpeg (85/99)\n",
            "Download 100%."
          ]
        },
        {
          "output_type": "stream",
          "name": "stderr",
          "text": [
            "WARNING:googleapiclient._helpers:__init__() takes at most 3 positional arguments (4 given)\n"
          ]
        },
        {
          "output_type": "stream",
          "name": "stdout",
          "text": [
            "\n",
            "1Yy10a6kl7-RqSHGlQkgYUEhbJN4N9elH tr_im_87.jpeg image/jpeg (86/99)\n",
            "Download 100%."
          ]
        },
        {
          "output_type": "stream",
          "name": "stderr",
          "text": [
            "WARNING:googleapiclient._helpers:__init__() takes at most 3 positional arguments (4 given)\n"
          ]
        },
        {
          "output_type": "stream",
          "name": "stdout",
          "text": [
            "\n",
            "1lSJLcP8crjwmF_UaHwz1U9HF5A2M1sJu tr_im_88.jpeg image/jpeg (87/99)\n",
            "Download 100%."
          ]
        },
        {
          "output_type": "stream",
          "name": "stderr",
          "text": [
            "WARNING:googleapiclient._helpers:__init__() takes at most 3 positional arguments (4 given)\n"
          ]
        },
        {
          "output_type": "stream",
          "name": "stdout",
          "text": [
            "\n",
            "1gzUWsagAkWN8WnsV-w3c9xcJSsVBucQ- tr_im_89.jpeg image/jpeg (88/99)\n",
            "Download 100%."
          ]
        },
        {
          "output_type": "stream",
          "name": "stderr",
          "text": [
            "WARNING:googleapiclient._helpers:__init__() takes at most 3 positional arguments (4 given)\n"
          ]
        },
        {
          "output_type": "stream",
          "name": "stdout",
          "text": [
            "\n",
            "1GH0m3fCNyMyUEtOPkIJKQeYWQUDwPuM1 tr_im_9.jpeg image/jpeg (89/99)\n",
            "Download 100%."
          ]
        },
        {
          "output_type": "stream",
          "name": "stderr",
          "text": [
            "WARNING:googleapiclient._helpers:__init__() takes at most 3 positional arguments (4 given)\n"
          ]
        },
        {
          "output_type": "stream",
          "name": "stdout",
          "text": [
            "\n",
            "1Z0KQa5-gEjo3t_rFyRO1rMkKYp-NOpgx tr_im_90.jpeg image/jpeg (90/99)\n",
            "Download 100%."
          ]
        },
        {
          "output_type": "stream",
          "name": "stderr",
          "text": [
            "WARNING:googleapiclient._helpers:__init__() takes at most 3 positional arguments (4 given)\n"
          ]
        },
        {
          "output_type": "stream",
          "name": "stdout",
          "text": [
            "\n",
            "1OIqajjczf_VCc9i7wBJTmsvkvndU1Ehj tr_im_91.jpeg image/jpeg (91/99)\n",
            "Download 100%."
          ]
        },
        {
          "output_type": "stream",
          "name": "stderr",
          "text": [
            "WARNING:googleapiclient._helpers:__init__() takes at most 3 positional arguments (4 given)\n"
          ]
        },
        {
          "output_type": "stream",
          "name": "stdout",
          "text": [
            "\n",
            "1Koznw73Yb6H-__tTxILHtdoD2XkUtOgn tr_im_92.jpeg image/jpeg (92/99)\n",
            "Download 100%."
          ]
        },
        {
          "output_type": "stream",
          "name": "stderr",
          "text": [
            "WARNING:googleapiclient._helpers:__init__() takes at most 3 positional arguments (4 given)\n"
          ]
        },
        {
          "output_type": "stream",
          "name": "stdout",
          "text": [
            "\n",
            "1iFDZHGmrAvw6xZm1b01F0PN3D-FLgxsT tr_im_93.jpeg image/jpeg (93/99)\n",
            "Download 100%."
          ]
        },
        {
          "output_type": "stream",
          "name": "stderr",
          "text": [
            "WARNING:googleapiclient._helpers:__init__() takes at most 3 positional arguments (4 given)\n"
          ]
        },
        {
          "output_type": "stream",
          "name": "stdout",
          "text": [
            "\n",
            "1fTwIg0GXmc1iFQOm_3ABfk14pDh7MWJA tr_im_94.jpeg image/jpeg (94/99)\n",
            "Download 100%."
          ]
        },
        {
          "output_type": "stream",
          "name": "stderr",
          "text": [
            "WARNING:googleapiclient._helpers:__init__() takes at most 3 positional arguments (4 given)\n"
          ]
        },
        {
          "output_type": "stream",
          "name": "stdout",
          "text": [
            "\n",
            "1RNQbWW_Xpy6PTHuvD0_LdyIFnOAdhv_w tr_im_95.jpeg image/jpeg (95/99)\n",
            "Download 100%."
          ]
        },
        {
          "output_type": "stream",
          "name": "stderr",
          "text": [
            "WARNING:googleapiclient._helpers:__init__() takes at most 3 positional arguments (4 given)\n"
          ]
        },
        {
          "output_type": "stream",
          "name": "stdout",
          "text": [
            "\n",
            "14I4VRHAHdxRpILeForf4iO-own-kx_qF tr_im_96.jpeg image/jpeg (96/99)\n",
            "Download 100%."
          ]
        },
        {
          "output_type": "stream",
          "name": "stderr",
          "text": [
            "WARNING:googleapiclient._helpers:__init__() takes at most 3 positional arguments (4 given)\n"
          ]
        },
        {
          "output_type": "stream",
          "name": "stdout",
          "text": [
            "\n",
            "1dYdUxw7x9vgtHmdL2hKGVLwFv4JXHWT3 tr_im_97.jpeg image/jpeg (97/99)\n",
            "Download 100%."
          ]
        },
        {
          "output_type": "stream",
          "name": "stderr",
          "text": [
            "WARNING:googleapiclient._helpers:__init__() takes at most 3 positional arguments (4 given)\n"
          ]
        },
        {
          "output_type": "stream",
          "name": "stdout",
          "text": [
            "\n",
            "1Jn09MXT2z_W6w5f_zYkN4b_h_XXIQv6E tr_im_98.jpeg image/jpeg (98/99)\n",
            "Download 100%."
          ]
        },
        {
          "output_type": "stream",
          "name": "stderr",
          "text": [
            "WARNING:googleapiclient._helpers:__init__() takes at most 3 positional arguments (4 given)\n"
          ]
        },
        {
          "output_type": "stream",
          "name": "stdout",
          "text": [
            "\n",
            "1nZZsVeuvEjySDyfEt8ua-tgZ40iYb4_1 tr_im_99.jpeg image/jpeg (99/99)\n",
            "Download 100%.\n",
            "1LN1W0SRy0jqsGG8P18vnWuWdcpYrcV22 u_net_dataset application/vnd.google-apps.folder (7/11)\n"
          ]
        },
        {
          "output_type": "stream",
          "name": "stderr",
          "text": [
            "WARNING:googleapiclient._helpers:__init__() takes at most 3 positional arguments (4 given)\n"
          ]
        },
        {
          "output_type": "stream",
          "name": "stdout",
          "text": [
            "1UBeZ8mzricb9p_5PdE5kWoizb0nZLUd0 x_test_64.npy application/octet-stream (1/5)\n",
            "Download 100%."
          ]
        },
        {
          "output_type": "stream",
          "name": "stderr",
          "text": [
            "WARNING:googleapiclient._helpers:__init__() takes at most 3 positional arguments (4 given)\n"
          ]
        },
        {
          "output_type": "stream",
          "name": "stdout",
          "text": [
            "\n",
            "13pTV60RZUndGpJLqG5pqPiyTunz-vtAy x_train_512.npy application/octet-stream (2/5)\n",
            "Download 100%."
          ]
        },
        {
          "output_type": "stream",
          "name": "stderr",
          "text": [
            "WARNING:googleapiclient._helpers:__init__() takes at most 3 positional arguments (4 given)\n"
          ]
        },
        {
          "output_type": "stream",
          "name": "stdout",
          "text": [
            "\n",
            "1VfRdgiVrJeBuWzu80hN0p8skejk75McN x_train_64.npy application/octet-stream (3/5)\n",
            "Download 100%."
          ]
        },
        {
          "output_type": "stream",
          "name": "stderr",
          "text": [
            "WARNING:googleapiclient._helpers:__init__() takes at most 3 positional arguments (4 given)\n"
          ]
        },
        {
          "output_type": "stream",
          "name": "stdout",
          "text": [
            "\n",
            "1-k3NTYYgDDzfoVepwv_qCHNWmBxM_o4x y_test_64.npy application/octet-stream (4/5)\n",
            "Download 100%."
          ]
        },
        {
          "output_type": "stream",
          "name": "stderr",
          "text": [
            "WARNING:googleapiclient._helpers:__init__() takes at most 3 positional arguments (4 given)\n"
          ]
        },
        {
          "output_type": "stream",
          "name": "stdout",
          "text": [
            "\n",
            "1q5WE6o7nnmlQrw5bjXQjFT9fTswQsyKA y_train_64.npy application/octet-stream (5/5)\n",
            "Download 100%.\n",
            "1dsTKB5n0twYgoN-BAYFzZQBUgSklGxFf u_net_dataset2 application/vnd.google-apps.folder (8/11)\n"
          ]
        },
        {
          "output_type": "stream",
          "name": "stderr",
          "text": [
            "WARNING:googleapiclient._helpers:__init__() takes at most 3 positional arguments (4 given)\n"
          ]
        },
        {
          "output_type": "stream",
          "name": "stdout",
          "text": [
            "1jeZZ3jeegtH8lKX3hQFmzRRUPBG1WioC x_test_64.npy application/octet-stream (1/2)\n",
            "Download 100%."
          ]
        },
        {
          "output_type": "stream",
          "name": "stderr",
          "text": [
            "WARNING:googleapiclient._helpers:__init__() takes at most 3 positional arguments (4 given)\n"
          ]
        },
        {
          "output_type": "stream",
          "name": "stdout",
          "text": [
            "\n",
            "15RPDqZ9O1PDR_QAaNBt8kvNRf9e10XsH y_test_64.npy application/octet-stream (2/2)\n",
            "Download 100%.\n",
            "19xsiCf9nKyP12_uiqbnzz9WmAfg-f2yh unet_seg_model application/vnd.google-apps.folder (9/11)\n",
            "1eSsjtTrNUQLtq9tTlPcdRb_ZsOFDTCAx seg_model.model application/vnd.google-apps.folder (1/1)\n"
          ]
        },
        {
          "output_type": "stream",
          "name": "stderr",
          "text": [
            "WARNING:googleapiclient._helpers:__init__() takes at most 3 positional arguments (4 given)\n"
          ]
        },
        {
          "output_type": "stream",
          "name": "stdout",
          "text": [
            "15OWueE8036auAyDIdhDmcUVvPejwi2RY keras_metadata.pb application/octet-stream (1/3)\n",
            "Download 100%."
          ]
        },
        {
          "output_type": "stream",
          "name": "stderr",
          "text": [
            "WARNING:googleapiclient._helpers:__init__() takes at most 3 positional arguments (4 given)\n"
          ]
        },
        {
          "output_type": "stream",
          "name": "stdout",
          "text": [
            "\n",
            "1N--BCfDxRJnndyVTUnAzgqVEwRbh-GjC saved_model.pb application/octet-stream (2/3)\n",
            "Download 100%.\n",
            "154gOgw55wT6FvE-1lmWcDeq1bRasSfnD variables application/vnd.google-apps.folder (3/3)\n"
          ]
        },
        {
          "output_type": "stream",
          "name": "stderr",
          "text": [
            "WARNING:googleapiclient._helpers:__init__() takes at most 3 positional arguments (4 given)\n"
          ]
        },
        {
          "output_type": "stream",
          "name": "stdout",
          "text": [
            "1YAbCOxbOixL849a9d-r100NMttxshA9J variables.data-00000-of-00001 application/octet-stream (1/2)\n",
            "Download 100%."
          ]
        },
        {
          "output_type": "stream",
          "name": "stderr",
          "text": [
            "WARNING:googleapiclient._helpers:__init__() takes at most 3 positional arguments (4 given)\n"
          ]
        },
        {
          "output_type": "stream",
          "name": "stdout",
          "text": [
            "\n",
            "1pZ6AW2Fflx2HlSJCnyZJYBTk0rFUgng- variables.index application/octet-stream (2/2)\n",
            "Download 100%."
          ]
        },
        {
          "output_type": "stream",
          "name": "stderr",
          "text": [
            "WARNING:googleapiclient._helpers:__init__() takes at most 3 positional arguments (4 given)\n"
          ]
        },
        {
          "output_type": "stream",
          "name": "stdout",
          "text": [
            "\n",
            "1ywU-1EiW2t4evCoRPw_DbJ9G-qsDWtAL unet_segmentation_lungs.ipynb application/octet-stream (10/11)\n",
            "Download 100%.\n",
            "1X1YWkimuQVVsYgrmkLRO6O2NGRCWVP1I x application/vnd.google-apps.folder (11/11)\n"
          ]
        },
        {
          "output_type": "execute_result",
          "data": {
            "text/plain": [
              "'UNET'"
            ],
            "application/vnd.google.colaboratory.intrinsic+json": {
              "type": "string"
            }
          },
          "metadata": {},
          "execution_count": 3
        }
      ]
    },
    {
      "cell_type": "code",
      "execution_count": 9,
      "metadata": {
        "id": "oMvASVlEj666"
      },
      "outputs": [],
      "source": [
        "from UNET.Code.UNetDataPreprocess import *\n",
        "from UNET.Code.UNet_Usage import * "
      ]
    },
    {
      "cell_type": "code",
      "execution_count": null,
      "metadata": {
        "id": "evyYDha9kLsX"
      },
      "outputs": [],
      "source": [
        "# preprocess_lungs_for_UNet_training(images_path, masks_path ,10,save_dir)"
      ]
    },
    {
      "cell_type": "code",
      "execution_count": 5,
      "metadata": {
        "id": "ZdR1kJRA7mkq"
      },
      "outputs": [],
      "source": [
        "x_train_path = '/content/UNET/u_net_dataset/x_train_64.npy'\n",
        "y_train_path = '/content/UNET/u_net_dataset/y_train_64.npy'\n",
        "model_path = '/content/UNET/unet_seg_model/seg_model.model'\n",
        "save_path = '/content/unet_seg_model2/seg_model'"
      ]
    },
    {
      "cell_type": "code",
      "source": [
        "# This model saved after some retrainings \n",
        "model_path = '/content/UNET/unet_seg_model/seg_model.model'\n",
        "des_path = \"/content/UNET/pred_masks/\"\n",
        "images_path = \"/content/UNET/tr_im/\"\n",
        "save_dir = \"/content/UNET/tr_im_preprocessed/\"\n",
        "preprocess_lungs_for_UNet_prediction(images_path, save_dir)"
      ],
      "metadata": {
        "colab": {
          "base_uri": "https://localhost:8080/"
        },
        "id": "YbDaIXPg1Sec",
        "outputId": "30c4b47f-039f-4d42-807d-dc05e2b0a01e"
      },
      "execution_count": 10,
      "outputs": [
        {
          "output_type": "stream",
          "name": "stdout",
          "text": [
            "len images :  99\n"
          ]
        }
      ]
    },
    {
      "cell_type": "code",
      "source": [
        "x_path = \"/content/UNET/tr_im_preprocessed/x_64.npy\""
      ],
      "metadata": {
        "id": "Zg7CFf2_518q"
      },
      "execution_count": null,
      "outputs": []
    },
    {
      "cell_type": "code",
      "source": [
        "generate_Lung_Masks_Using_UNet(model_path,x_path, des_path)"
      ],
      "metadata": {
        "colab": {
          "base_uri": "https://localhost:8080/"
        },
        "id": "m5fr0M7K5Vkk",
        "outputId": "4ce31fc9-369d-44db-e7d1-2e560761e987"
      },
      "execution_count": null,
      "outputs": [
        {
          "output_type": "stream",
          "name": "stdout",
          "text": [
            "4/4 [==============================] - 0s 77ms/step\n",
            "(99, 512, 512, 3)\n"
          ]
        }
      ]
    },
    {
      "cell_type": "code",
      "source": [
        "pred_mask_path = \"/content/UNET/pred_masks/pred_masks.npy\"\n",
        "pred_masks = np.load(pred_mask_path)\n",
        "x_512_path = \"/content/UNET/tr_im_preprocessed/x_512.npy\" \n",
        "X = np.load(x_512_path)"
      ],
      "metadata": {
        "id": "ZJp7IQk76NAn"
      },
      "execution_count": null,
      "outputs": []
    },
    {
      "cell_type": "code",
      "source": [
        "X2 = np.empty((len(X), 512,512, 3), dtype=np.float32)\n",
        "index = 0\n",
        "for i in X:\n",
        "  i = cv2.cvtColor(i,cv2.COLOR_GRAY2RGB) #convert to RGB (512,512,3)\n",
        "  X2[index] = i\n",
        "  index += 1\n",
        "X = X2"
      ],
      "metadata": {
        "id": "xtlI9_Wk7E1q"
      },
      "execution_count": null,
      "outputs": []
    },
    {
      "cell_type": "code",
      "source": [
        "show_num = 5\n",
        "fig, ax = plt.subplots(show_num, 2, figsize=(10, 20))\n",
        "\n",
        "for i, pred in enumerate(pred_masks[:show_num]):\n",
        "    ax[i, 0].imshow(X[i], cmap='gray')\n",
        "    ax[i, 1].imshow(pred_masks[i], cmap='gray')"
      ],
      "metadata": {
        "colab": {
          "base_uri": "https://localhost:8080/",
          "height": 1000
        },
        "id": "e1MQ-V2-6HFm",
        "outputId": "0749c16c-473a-4499-82ce-c23e2c40c2aa"
      },
      "execution_count": null,
      "outputs": [
        {
          "output_type": "display_data",
          "data": {
            "text/plain": [
              "<Figure size 720x1440 with 10 Axes>"
            ],
            "image/png": "[encoded data removed]"
          },
          "metadata": {
            "needs_background": "light"
          }
        }
      ]
    },
    {
      "cell_type": "code",
      "execution_count": null,
      "metadata": {
        "colab": {
          "base_uri": "https://localhost:8080/"
        },
        "id": "NDNCCYFR8HX3",
        "outputId": "1a2bfd11-26f3-4d07-f597-a1a15b4911eb"
      },
      "outputs": [
        {
          "output_type": "stream",
          "name": "stderr",
          "text": [
            "WARNING:tensorflow:`period` argument is deprecated. Please use `save_freq` to specify the frequency in number of batches seen.\n"
          ]
        },
        {
          "output_type": "stream",
          "name": "stdout",
          "text": [
            "Epoch 1/50\n",
            "53/53 [==============================] - 32s 321ms/step - loss: 0.4767 - dice_coef: 0.2271\n",
            "Epoch 2/50\n",
            "53/53 [==============================] - 12s 229ms/step - loss: 0.4284 - dice_coef: 0.3007\n",
            "Epoch 3/50\n",
            "53/53 [==============================] - 12s 232ms/step - loss: 0.4146 - dice_coef: 0.3306\n",
            "Epoch 4/50\n",
            "53/53 [==============================] - 12s 235ms/step - loss: 0.4064 - dice_coef: 0.3478\n",
            "Epoch 5/50\n",
            "53/53 [==============================] - 13s 239ms/step - loss: 0.4017 - dice_coef: 0.3584\n",
            "Epoch 6/50\n",
            "53/53 [==============================] - 13s 243ms/step - loss: 0.3984 - dice_coef: 0.3649\n",
            "Epoch 7/50\n",
            "53/53 [==============================] - 13s 246ms/step - loss: 0.3956 - dice_coef: 0.3707\n",
            "Epoch 8/50\n",
            "53/53 [==============================] - 13s 252ms/step - loss: 0.3945 - dice_coef: 0.3731\n",
            "Epoch 9/50\n",
            "53/53 [==============================] - 14s 256ms/step - loss: 0.3936 - dice_coef: 0.3750\n",
            "Epoch 10/50\n",
            "53/53 [==============================] - ETA: 0s - loss: 0.3922 - dice_coef: 0.3781"
          ]
        },
        {
          "output_type": "stream",
          "name": "stderr",
          "text": [
            "WARNING:absl:Found untraced functions such as _jit_compiled_convolution_op, _jit_compiled_convolution_op, _jit_compiled_convolution_op, _jit_compiled_convolution_op, _jit_compiled_convolution_op while saving (showing 5 of 23). These functions will not be directly callable after loading.\n"
          ]
        },
        {
          "output_type": "stream",
          "name": "stdout",
          "text": [
            "\b\b\b\b\b\b\b\b\b\b\b\b\b\b\b\b\b\b\b\b\b\b\b\b\b\b\b\b\b\b\b\b\b\b\b\b\b\b\b\b\b\b\b\b\b\b\b\b\b\b\b\b\b\b\b\b\b\b\b\b\b\b\b\b\b\b\b\b\b\b\b\b\b\b\b\b\b\b\b\b\b\b\b\r53/53 [==============================] - 19s 368ms/step - loss: 0.3922 - dice_coef: 0.3781\n",
            "Epoch 11/50\n",
            "53/53 [==============================] - 13s 246ms/step - loss: 0.3916 - dice_coef: 0.3790\n",
            "Epoch 12/50\n",
            "53/53 [==============================] - 13s 250ms/step - loss: 0.3909 - dice_coef: 0.3806\n",
            "Epoch 13/50\n",
            "53/53 [==============================] - 13s 255ms/step - loss: 0.3905 - dice_coef: 0.3816\n",
            "Epoch 14/50\n",
            "53/53 [==============================] - 13s 252ms/step - loss: 0.3903 - dice_coef: 0.3822\n",
            "Epoch 15/50\n",
            "53/53 [==============================] - 13s 251ms/step - loss: 0.3898 - dice_coef: 0.3834\n",
            "Epoch 16/50\n",
            "53/53 [==============================] - 13s 252ms/step - loss: 0.3895 - dice_coef: 0.3839\n",
            "Epoch 17/50\n",
            "53/53 [==============================] - 13s 251ms/step - loss: 0.3891 - dice_coef: 0.3842\n",
            "Epoch 18/50\n",
            "53/53 [==============================] - 13s 251ms/step - loss: 0.3893 - dice_coef: 0.3844\n",
            "Epoch 19/50\n",
            "53/53 [==============================] - 13s 252ms/step - loss: 0.3889 - dice_coef: 0.3850\n",
            "Epoch 20/50\n",
            "53/53 [==============================] - ETA: 0s - loss: 0.3889 - dice_coef: 0.3850"
          ]
        },
        {
          "output_type": "stream",
          "name": "stderr",
          "text": [
            "WARNING:absl:Found untraced functions such as _jit_compiled_convolution_op, _jit_compiled_convolution_op, _jit_compiled_convolution_op, _jit_compiled_convolution_op, _jit_compiled_convolution_op while saving (showing 5 of 23). These functions will not be directly callable after loading.\n"
          ]
        },
        {
          "output_type": "stream",
          "name": "stdout",
          "text": [
            "\b\b\b\b\b\b\b\b\b\b\b\b\b\b\b\b\b\b\b\b\b\b\b\b\b\b\b\b\b\b\b\b\b\b\b\b\b\b\b\b\b\b\b\b\b\b\b\b\b\b\b\b\b\b\b\b\b\b\b\b\b\b\b\b\b\b\b\b\b\b\b\b\b\b\b\b\b\b\b\b\b\b\b\r53/53 [==============================] - 18s 345ms/step - loss: 0.3889 - dice_coef: 0.3850\n",
            "Epoch 21/50\n",
            "53/53 [==============================] - 13s 249ms/step - loss: 0.3883 - dice_coef: 0.3859\n",
            "Epoch 22/50\n",
            "53/53 [==============================] - 13s 255ms/step - loss: 0.3883 - dice_coef: 0.3865\n",
            "Epoch 23/50\n",
            "53/53 [==============================] - 13s 254ms/step - loss: 0.3884 - dice_coef: 0.3862\n",
            "Epoch 24/50\n",
            "53/53 [==============================] - 13s 252ms/step - loss: 0.3882 - dice_coef: 0.3868\n",
            "Epoch 25/50\n",
            "53/53 [==============================] - 13s 252ms/step - loss: 0.3882 - dice_coef: 0.3864\n",
            "Epoch 26/50\n",
            "53/53 [==============================] - 13s 251ms/step - loss: 0.3876 - dice_coef: 0.3876\n",
            "Epoch 27/50\n",
            "53/53 [==============================] - 13s 250ms/step - loss: 0.3877 - dice_coef: 0.3875\n",
            "Epoch 28/50\n",
            "53/53 [==============================] - 13s 251ms/step - loss: 0.3875 - dice_coef: 0.3879\n",
            "Epoch 29/50\n",
            "53/53 [==============================] - 13s 252ms/step - loss: 0.3875 - dice_coef: 0.3878\n",
            "Epoch 30/50\n",
            "53/53 [==============================] - ETA: 0s - loss: 0.3876 - dice_coef: 0.3882"
          ]
        },
        {
          "output_type": "stream",
          "name": "stderr",
          "text": [
            "WARNING:absl:Found untraced functions such as _jit_compiled_convolution_op, _jit_compiled_convolution_op, _jit_compiled_convolution_op, _jit_compiled_convolution_op, _jit_compiled_convolution_op while saving (showing 5 of 23). These functions will not be directly callable after loading.\n"
          ]
        },
        {
          "output_type": "stream",
          "name": "stdout",
          "text": [
            "\b\b\b\b\b\b\b\b\b\b\b\b\b\b\b\b\b\b\b\b\b\b\b\b\b\b\b\b\b\b\b\b\b\b\b\b\b\b\b\b\b\b\b\b\b\b\b\b\b\b\b\b\b\b\b\b\b\b\b\b\b\b\b\b\b\b\b\b\b\b\b\b\b\b\b\b\b\b\b\b\b\b\b\r53/53 [==============================] - 18s 349ms/step - loss: 0.3876 - dice_coef: 0.3882\n",
            "Epoch 31/50\n",
            "53/53 [==============================] - 13s 250ms/step - loss: 0.3873 - dice_coef: 0.3879\n",
            "Epoch 32/50\n",
            "53/53 [==============================] - 13s 254ms/step - loss: 0.3874 - dice_coef: 0.3879\n",
            "Epoch 33/50\n",
            "53/53 [==============================] - 13s 253ms/step - loss: 0.3873 - dice_coef: 0.3885\n",
            "Epoch 34/50\n",
            "53/53 [==============================] - 13s 251ms/step - loss: 0.3871 - dice_coef: 0.3887\n",
            "Epoch 35/50\n",
            "53/53 [==============================] - 13s 251ms/step - loss: 0.3870 - dice_coef: 0.3889\n",
            "Epoch 36/50\n",
            "53/53 [==============================] - 13s 252ms/step - loss: 0.3870 - dice_coef: 0.3888\n",
            "Epoch 37/50\n",
            "53/53 [==============================] - 13s 252ms/step - loss: 0.3875 - dice_coef: 0.3881\n",
            "Epoch 38/50\n",
            "53/53 [==============================] - 13s 252ms/step - loss: 0.3870 - dice_coef: 0.3890\n",
            "Epoch 39/50\n",
            "53/53 [==============================] - 13s 252ms/step - loss: 0.3870 - dice_coef: 0.3891\n",
            "Epoch 40/50\n",
            "53/53 [==============================] - ETA: 0s - loss: 0.3868 - dice_coef: 0.3892"
          ]
        },
        {
          "output_type": "stream",
          "name": "stderr",
          "text": [
            "WARNING:absl:Found untraced functions such as _jit_compiled_convolution_op, _jit_compiled_convolution_op, _jit_compiled_convolution_op, _jit_compiled_convolution_op, _jit_compiled_convolution_op while saving (showing 5 of 23). These functions will not be directly callable after loading.\n"
          ]
        },
        {
          "output_type": "stream",
          "name": "stdout",
          "text": [
            "\b\b\b\b\b\b\b\b\b\b\b\b\b\b\b\b\b\b\b\b\b\b\b\b\b\b\b\b\b\b\b\b\b\b\b\b\b\b\b\b\b\b\b\b\b\b\b\b\b\b\b\b\b\b\b\b\b\b\b\b\b\b\b\b\b\b\b\b\b\b\b\b\b\b\b\b\b\b\b\b\b\b\b\r53/53 [==============================] - 18s 342ms/step - loss: 0.3868 - dice_coef: 0.3892\n",
            "Epoch 41/50\n",
            "53/53 [==============================] - 13s 249ms/step - loss: 0.3868 - dice_coef: 0.3898\n",
            "Epoch 42/50\n",
            "53/53 [==============================] - 13s 254ms/step - loss: 0.3867 - dice_coef: 0.3897\n",
            "Epoch 43/50\n",
            "53/53 [==============================] - 13s 253ms/step - loss: 0.3865 - dice_coef: 0.3898\n",
            "Epoch 44/50\n",
            "53/53 [==============================] - 13s 251ms/step - loss: 0.3871 - dice_coef: 0.3889\n",
            "Epoch 45/50\n",
            "53/53 [==============================] - 13s 252ms/step - loss: 0.3869 - dice_coef: 0.3895\n",
            "Epoch 46/50\n",
            "53/53 [==============================] - 13s 251ms/step - loss: 0.3866 - dice_coef: 0.3895\n",
            "Epoch 47/50\n",
            "53/53 [==============================] - 13s 250ms/step - loss: 0.3866 - dice_coef: 0.3898\n",
            "Epoch 48/50\n",
            "53/53 [==============================] - 13s 252ms/step - loss: 0.3864 - dice_coef: 0.3903\n",
            "Epoch 49/50\n",
            "53/53 [==============================] - 13s 252ms/step - loss: 0.3864 - dice_coef: 0.3900\n",
            "Epoch 50/50\n",
            "53/53 [==============================] - ETA: 0s - loss: 0.3868 - dice_coef: 0.3895"
          ]
        },
        {
          "output_type": "stream",
          "name": "stderr",
          "text": [
            "WARNING:absl:Found untraced functions such as _jit_compiled_convolution_op, _jit_compiled_convolution_op, _jit_compiled_convolution_op, _jit_compiled_convolution_op, _jit_compiled_convolution_op while saving (showing 5 of 23). These functions will not be directly callable after loading.\n"
          ]
        },
        {
          "output_type": "stream",
          "name": "stdout",
          "text": [
            "\b\b\b\b\b\b\b\b\b\b\b\b\b\b\b\b\b\b\b\b\b\b\b\b\b\b\b\b\b\b\b\b\b\b\b\b\b\b\b\b\b\b\b\b\b\b\b\b\b\b\b\b\b\b\b\b\b\b\b\b\b\b\b\b\b\b\b\b\b\b\b\b\b\b\b\b\b\b\b\b\b\b\b\r53/53 [==============================] - 18s 346ms/step - loss: 0.3868 - dice_coef: 0.3895\n"
          ]
        },
        {
          "output_type": "stream",
          "name": "stderr",
          "text": [
            "WARNING:absl:Found untraced functions such as _jit_compiled_convolution_op, _jit_compiled_convolution_op, _jit_compiled_convolution_op, _jit_compiled_convolution_op, _jit_compiled_convolution_op while saving (showing 5 of 23). These functions will not be directly callable after loading.\n"
          ]
        }
      ],
      "source": [
        "retrain_UNet(model_path,save_path,x_train_path , y_train_path ,50)"
      ]
    }
  ],
  "metadata": {
    "accelerator": "GPU",
    "colab": {
      "provenance": []
    },
    "gpuClass": "standard",
    "kernelspec": {
      "display_name": "Python 3",
      "name": "python3"
    },
    "language_info": {
      "name": "python"
    }
  },
  "nbformat": 4,
  "nbformat_minor": 0
}